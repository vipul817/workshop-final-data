{
 "cells": [
  {
   "cell_type": "markdown",
   "id": "f7d0a965",
   "metadata": {},
   "source": [
    "### Steps to be followed:"
   ]
  },
  {
   "cell_type": "markdown",
   "id": "35753316",
   "metadata": {},
   "source": [
    "* Making the connection between RDS and SQL server\n",
    "* Installing and importing the necessary libraries\n",
    "* Making the connection between RDS and sagemaker\n",
    "* Fetching the data\n",
    "* Some insights on the data\n",
    "* Deleting the RDS database"
   ]
  },
  {
   "cell_type": "markdown",
   "id": "df1b23aa",
   "metadata": {},
   "source": [
    "### Making a connection between RDS and SQL server"
   ]
  },
  {
   "cell_type": "markdown",
   "id": "e3f8379f",
   "metadata": {},
   "source": [
    "Create a database in RDS and then make a connection with the SQL server using the endpoints."
   ]
  },
  {
   "cell_type": "code",
   "execution_count": null,
   "id": "77bab0a3",
   "metadata": {},
   "outputs": [],
   "source": [
    "pip install pymssql"
   ]
  },
  {
   "cell_type": "markdown",
   "id": "d9671169",
   "metadata": {},
   "source": [
    "pymssql library is not present in the sagemaker by default so install this library to make a connection between sagemaker and RDS."
   ]
  },
  {
   "cell_type": "code",
   "execution_count": null,
   "id": "b7972ec5",
   "metadata": {},
   "outputs": [],
   "source": [
    "#Importing the necessary libraries\n",
    "\n",
    "import pymssql\n",
    "import numpy as np\n",
    "import pandas as pd"
   ]
  },
  {
   "cell_type": "markdown",
   "id": "49017458",
   "metadata": {},
   "source": [
    "### Making the connection between RDS and sagemaker"
   ]
  },
  {
   "cell_type": "code",
   "execution_count": null,
   "id": "06831031",
   "metadata": {},
   "outputs": [],
   "source": [
    "connection={\n",
    "    'host': 'database-1.cnvhfuv3ncfl.us-east-1.rds.amazonaws.com',      #server name that is endpoint of database in rds\n",
    "    'username': 'admin',                                                #provided while creating the database\n",
    "    'password': '750vip12',\n",
    "    'db': 'aws-orders-db'                                               #Name of the database\n",
    "}"
   ]
  },
  {
   "cell_type": "code",
   "execution_count": null,
   "id": "906816d6",
   "metadata": {},
   "outputs": [],
   "source": [
    "#making a connection\n",
    "\n",
    "con=pymssql.connect(connection['host'],connection['username'],connection['password'],connection['db'])\n",
    "cursor=con.cursor()"
   ]
  },
  {
   "cell_type": "markdown",
   "id": "4545f944",
   "metadata": {},
   "source": [
    "### Fetching the data"
   ]
  },
  {
   "cell_type": "code",
   "execution_count": null,
   "id": "f462f1c8",
   "metadata": {},
   "outputs": [],
   "source": [
    "#Importing the categories table from the orders database\n",
    "\n",
    "select_statement1=\"\"\"select * from categories$\"\"\"\n",
    "cursor.execute(select_statement1)\n",
    "columns = cursor.description          #Fetching complete raw data\n",
    "result1 = [{columns[index][0]:column for index, column in enumerate(value)} for value in cursor.fetchall()]   #Get the index column names along with the data\n",
    "categories=pd.DataFrame(result1)      #Converting that data into a dataframe\n",
    "categories.head()"
   ]
  },
  {
   "cell_type": "markdown",
   "id": "71c60880",
   "metadata": {},
   "source": [
    "Imported the **Categories** table from orders database which have three features including categoryid, category name and description of the categories."
   ]
  },
  {
   "cell_type": "code",
   "execution_count": null,
   "id": "75261ae9",
   "metadata": {},
   "outputs": [],
   "source": [
    "#Importing the customers table from the orders database\n",
    "\n",
    "select_statement2=\"\"\"select * from customers$\"\"\"\n",
    "cursor.execute(select_statement2)\n",
    "columns = cursor.description           #Fetching complete raw data\n",
    "result2 = [{columns[index][0]:column for index, column in enumerate(value)} for value in cursor.fetchall()]    #Get the index column names along with the data\n",
    "customers=pd.DataFrame(result2)        #Converting that data into a dataframe\n",
    "customers.head()"
   ]
  },
  {
   "cell_type": "markdown",
   "id": "a146f4b4",
   "metadata": {},
   "source": [
    "Imported the **Customers** table from orders database which have seven features regarding the basic information about the customer."
   ]
  },
  {
   "cell_type": "code",
   "execution_count": null,
   "id": "f7bbf00c",
   "metadata": {},
   "outputs": [],
   "source": [
    "#Importing the orderdetails table from the orders database\n",
    "\n",
    "select_statement3=\"\"\"select * from orderdetails$\"\"\"\n",
    "cursor.execute(select_statement3)\n",
    "columns = cursor.description               #Fetching complete raw data\n",
    "result3 = [{columns[index][0]:column for index, column in enumerate(value)} for value in cursor.fetchall()]    #Get the index column names along with the data\n",
    "orderdetails=pd.DataFrame(result3)         #Converting that data into a dataframe\n",
    "orderdetails.head()"
   ]
  },
  {
   "cell_type": "markdown",
   "id": "66cddba0",
   "metadata": {},
   "source": [
    "Imported the **Orderdetails** table from orders database which have four features including Id's and quantity of the products sold."
   ]
  },
  {
   "cell_type": "code",
   "execution_count": null,
   "id": "72bb6b90",
   "metadata": {},
   "outputs": [],
   "source": [
    "#Importing the orders table from the orders database\n",
    "\n",
    "select_statement4=\"\"\"select * from orders$\"\"\"\n",
    "cursor.execute(select_statement4)\n",
    "columns = cursor.description               #Fetching complete raw data\n",
    "result4 = [{columns[index][0]:column for index, column in enumerate(value)} for value in cursor.fetchall()]\n",
    "orders=pd.DataFrame(result4)               #Converting that data into a dataframe\n",
    "orders.tail()"
   ]
  },
  {
   "cell_type": "markdown",
   "id": "56d8bc2f",
   "metadata": {},
   "source": [
    "Imported the **Orders** table from orders database which have five features including some important Id's."
   ]
  },
  {
   "cell_type": "markdown",
   "id": "2954323c",
   "metadata": {},
   "source": [
    "### Some insights"
   ]
  },
  {
   "cell_type": "markdown",
   "id": "2b170ecf",
   "metadata": {},
   "source": [
    "#### How many distinct customers are there?"
   ]
  },
  {
   "cell_type": "code",
   "execution_count": null,
   "id": "bd0a0643",
   "metadata": {},
   "outputs": [],
   "source": [
    "#Count of the customer id from customers table\n",
    "\n",
    "customers['CustomerID'].count()"
   ]
  },
  {
   "cell_type": "markdown",
   "id": "2f2d107a",
   "metadata": {},
   "source": [
    "#### How many customers are there by each country?"
   ]
  },
  {
   "cell_type": "code",
   "execution_count": null,
   "id": "4ddecf83",
   "metadata": {},
   "outputs": [],
   "source": [
    "#count of the customer id on the basis of the country name\n",
    "\n",
    "customer_country =  customers.groupby('Country',as_index=False).agg({'CustomerID':'count'})\n",
    "customer_country.sort_values('CustomerID',ascending=False,ignore_index= True)"
   ]
  },
  {
   "cell_type": "markdown",
   "id": "0297e5b7",
   "metadata": {},
   "source": [
    "Highest number of customers are from USA and lowest number of customers are from Ireland, Norway and Poland."
   ]
  },
  {
   "cell_type": "markdown",
   "id": "a61e6ca9",
   "metadata": {},
   "source": [
    "#### How my products each customer has purchased?"
   ]
  },
  {
   "cell_type": "markdown",
   "id": "2acdd89d",
   "metadata": {},
   "source": [
    "* Merge the orderdetails and orders table on the common key order id.\n",
    "* count of product id on the basis of the customer id."
   ]
  },
  {
   "cell_type": "code",
   "execution_count": null,
   "id": "bc16a17f",
   "metadata": {},
   "outputs": [],
   "source": [
    "#Merge the orderdetails and orders table on the common key order id.\n",
    "\n",
    "orders_details=pd.merge(orderdetails,orders, on='OrderID', how='left')\n",
    "orders_details.head()"
   ]
  },
  {
   "cell_type": "code",
   "execution_count": null,
   "id": "8e300b41",
   "metadata": {},
   "outputs": [],
   "source": [
    "#count of product id on the basis of the customer id.\n",
    "\n",
    "products_customer = orders_details.groupby('CustomerID',as_index=False).agg({'ProductID':'count'})\n",
    "products_customer.sort_values('ProductID',ascending=False,ignore_index= True)"
   ]
  },
  {
   "cell_type": "markdown",
   "id": "159eac47",
   "metadata": {},
   "source": [
    "The top customer with highest purchase is with customer id 20."
   ]
  },
  {
   "cell_type": "markdown",
   "id": "17e2b1db",
   "metadata": {},
   "source": [
    "#### How many products each employee has sold? Which employee has sold maximum?"
   ]
  },
  {
   "cell_type": "code",
   "execution_count": null,
   "id": "d3851944",
   "metadata": {},
   "outputs": [],
   "source": [
    "#From the merged table orders_details, count of product id on the basis of employee id\n",
    "\n",
    "products_employees = orders_details.groupby('EmployeeID',as_index=False).agg({'ProductID':'count'})\n",
    "products_employees.sort_values('ProductID',ascending=False,ignore_index= True)"
   ]
  },
  {
   "cell_type": "markdown",
   "id": "e7d1764b",
   "metadata": {},
   "source": [
    "The employee with employee id 4 has sold maximum number of products."
   ]
  },
  {
   "cell_type": "markdown",
   "id": "0b28d882",
   "metadata": {},
   "source": [
    "### Deleting the RDS database"
   ]
  },
  {
   "cell_type": "markdown",
   "id": "29a55c69",
   "metadata": {},
   "source": [
    "It will be done manually."
   ]
  },
  {
   "cell_type": "code",
   "execution_count": null,
   "id": "dbab6468",
   "metadata": {},
   "outputs": [],
   "source": []
  }
 ],
 "metadata": {
  "kernelspec": {
   "display_name": "conda_python3",
   "language": "python",
   "name": "conda_python3"
  },
  "language_info": {
   "codemirror_mode": {
    "name": "ipython",
    "version": 3
   },
   "file_extension": ".py",
   "mimetype": "text/x-python",
   "name": "python",
   "nbconvert_exporter": "python",
   "pygments_lexer": "ipython3",
   "version": "3.10.6"
  }
 },
 "nbformat": 4,
 "nbformat_minor": 5
}
